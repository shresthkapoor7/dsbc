{
 "cells": [
  {
   "cell_type": "markdown",
   "metadata": {},
   "source": [
    "# Problems\n",
    "<hr>\n",
    "1.⁠ ⁠Write a function  count_vowels(word) that takes a word as an argument and returns the number of vowels in the word <br>\n",
    "2.⁠ ⁠Iterate through the following list of animals and print each one in all caps. <br>\n",
    "  animals=['tiger', 'elephant', 'monkey', 'zebra', 'panther']\n",
    "\n",
    "3.⁠ ⁠Write a program that iterates from 1 to 20, printing each number and whether it's odd or even. <br>\n",
    "4.⁠ ⁠Write a function sum_of_integers(a, b) that takes two integers as input from the user and returns their sum."
   ]
  },
  {
   "cell_type": "code",
   "execution_count": 22,
   "metadata": {},
   "outputs": [
    {
     "name": "stdout",
     "output_type": "stream",
     "text": [
      "2\n"
     ]
    }
   ],
   "source": [
    "def count_vowels(word):\n",
    "    vowels = \"aeiouAEIOU\"\n",
    "    count = 0\n",
    "    for i in word:\n",
    "        if i in vowels:\n",
    "            count += 1\n",
    "    return count\n",
    "\n",
    "string = input()\n",
    "print(count_vowels(string))"
   ]
  },
  {
   "cell_type": "code",
   "execution_count": 9,
   "metadata": {},
   "outputs": [
    {
     "name": "stdout",
     "output_type": "stream",
     "text": [
      "TIGER\n",
      "ELEPHANT\n",
      "MONKEY\n",
      "ZEBRA\n",
      "PANTHER\n"
     ]
    }
   ],
   "source": [
    "animals = ['tiger', 'elephant', 'monkey', 'zebra', 'panther']\n",
    "for animal in animals:\n",
    "    print(animal.upper())"
   ]
  },
  {
   "cell_type": "code",
   "execution_count": 24,
   "metadata": {},
   "outputs": [
    {
     "name": "stdout",
     "output_type": "stream",
     "text": [
      "1 Odd\n",
      "2 Even\n",
      "3 Odd\n",
      "4 Even\n",
      "5 Odd\n",
      "6 Even\n",
      "7 Odd\n",
      "8 Even\n",
      "9 Odd\n",
      "10 Even\n",
      "11 Odd\n",
      "12 Even\n",
      "13 Odd\n",
      "14 Even\n",
      "15 Odd\n",
      "16 Even\n",
      "17 Odd\n",
      "18 Even\n",
      "19 Odd\n",
      "20 Even\n"
     ]
    }
   ],
   "source": [
    "for i in range (1,21):\n",
    "    type = \"\"\n",
    "    if i % 2 == 0:\n",
    "        type = \"Even\"\n",
    "    else:\n",
    "        type = \"Odd\"\n",
    "    print(i, type)"
   ]
  },
  {
   "cell_type": "code",
   "execution_count": 18,
   "metadata": {},
   "outputs": [
    {
     "name": "stdout",
     "output_type": "stream",
     "text": [
      "22\n"
     ]
    }
   ],
   "source": [
    "def sum_of_integers(a, b):\n",
    "    return a+b\n",
    "\n",
    "a = int(input())\n",
    "b = int(input())\n",
    "\n",
    "print(sum_of_integers(a, b))"
   ]
  }
 ],
 "metadata": {
  "kernelspec": {
   "display_name": "Python 3",
   "language": "python",
   "name": "python3"
  },
  "language_info": {
   "codemirror_mode": {
    "name": "ipython",
    "version": 3
   },
   "file_extension": ".py",
   "mimetype": "text/x-python",
   "name": "python",
   "nbconvert_exporter": "python",
   "pygments_lexer": "ipython3",
   "version": "3.10.14"
  }
 },
 "nbformat": 4,
 "nbformat_minor": 2
}
