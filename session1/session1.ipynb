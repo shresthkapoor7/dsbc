{
 "cells": [
  {
   "cell_type": "code",
   "execution_count": 1,
   "id": "59860d2e",
   "metadata": {},
   "outputs": [
    {
     "name": "stdout",
     "output_type": "stream",
     "text": [
      "11\n"
     ]
    }
   ],
   "source": [
    "a = 10\n",
    "b = a+100\n",
    "quotient = b//10\n",
    "print(quotient)"
   ]
  },
  {
   "cell_type": "code",
   "execution_count": 3,
   "id": "55b998a3",
   "metadata": {},
   "outputs": [
    {
     "name": "stdout",
     "output_type": "stream",
     "text": [
      "<class 'int'>\n"
     ]
    }
   ],
   "source": [
    "print(type(b))"
   ]
  },
  {
   "cell_type": "code",
   "execution_count": 4,
   "id": "61502424",
   "metadata": {},
   "outputs": [
    {
     "name": "stdout",
     "output_type": "stream",
     "text": [
      "\n",
      "something is better than nothing\n",
      "Yes\n",
      "      hello\n",
      "      world\n",
      "\n"
     ]
    }
   ],
   "source": [
    "print(\"\"\"\n",
    "something is better than nothing\n",
    "Yes\n",
    "      hello\n",
    "      world\n",
    "\"\"\")"
   ]
  },
  {
   "cell_type": "code",
   "execution_count": 5,
   "id": "bd11fe30",
   "metadata": {},
   "outputs": [
    {
     "name": "stdout",
     "output_type": "stream",
     "text": [
      "True\n"
     ]
    }
   ],
   "source": [
    "c = 9\n",
    "print (b==110 or c == 10)"
   ]
  },
  {
   "cell_type": "code",
   "execution_count": 6,
   "id": "818b374c",
   "metadata": {},
   "outputs": [
    {
     "name": "stdout",
     "output_type": "stream",
     "text": [
      "True\n"
     ]
    }
   ],
   "source": [
    "print (not c == 10)"
   ]
  },
  {
   "cell_type": "code",
   "execution_count": 7,
   "id": "0561dbd5",
   "metadata": {},
   "outputs": [
    {
     "name": "stdout",
     "output_type": "stream",
     "text": [
      "[0, 1, 2, 3, 4]\n"
     ]
    }
   ],
   "source": [
    "nums = list(range(5))\n",
    "print(nums)"
   ]
  },
  {
   "cell_type": "code",
   "execution_count": 8,
   "id": "555cd1a9",
   "metadata": {},
   "outputs": [
    {
     "name": "stdout",
     "output_type": "stream",
     "text": [
      "[2, 3]\n",
      "[2, 3, 4]\n",
      "[0, 1, 2, 3]\n",
      "[0, 1, 2, 3, 4]\n",
      "[0, 1, 2, 3]\n"
     ]
    }
   ],
   "source": [
    "print(nums[2:4])\n",
    "# Slicing\n",
    "print(nums[2:])\n",
    "print(nums[:4])\n",
    "print(nums[:])\n",
    "print(nums[:-1])"
   ]
  },
  {
   "cell_type": "code",
   "execution_count": 9,
   "id": "a7cf9075",
   "metadata": {},
   "outputs": [],
   "source": [
    "nums[2:4] = [8,9]"
   ]
  },
  {
   "cell_type": "code",
   "execution_count": 10,
   "id": "2fc3feb2",
   "metadata": {},
   "outputs": [
    {
     "name": "stdout",
     "output_type": "stream",
     "text": [
      "[0, 1, 8, 9, 4]\n"
     ]
    }
   ],
   "source": [
    "print(nums)"
   ]
  },
  {
   "cell_type": "code",
   "execution_count": 11,
   "id": "79d71fed",
   "metadata": {},
   "outputs": [
    {
     "name": "stdout",
     "output_type": "stream",
     "text": [
      "('NYU', 'DataScience', 100, 201)\n",
      "<class 'tuple'>\n",
      "('DataScience', 100, 201)\n"
     ]
    },
    {
     "ename": "TypeError",
     "evalue": "'tuple' object does not support item assignment",
     "output_type": "error",
     "traceback": [
      "\u001b[0;31m---------------------------------------------------------------------------\u001b[0m",
      "\u001b[0;31mTypeError\u001b[0m                                 Traceback (most recent call last)",
      "Cell \u001b[0;32mIn[11], line 6\u001b[0m\n\u001b[1;32m      4\u001b[0m \u001b[38;5;28mprint\u001b[39m(\u001b[38;5;28mtype\u001b[39m(t))\n\u001b[1;32m      5\u001b[0m \u001b[38;5;28mprint\u001b[39m(t[\u001b[38;5;241m1\u001b[39m:])\n\u001b[0;32m----> 6\u001b[0m \u001b[43mt\u001b[49m\u001b[43m[\u001b[49m\u001b[38;5;241;43m2\u001b[39;49m\u001b[43m:\u001b[49m\u001b[38;5;241;43m3\u001b[39;49m\u001b[43m]\u001b[49m \u001b[38;5;241m=\u001b[39m [\u001b[38;5;241m8\u001b[39m,\u001b[38;5;241m9\u001b[39m]\n\u001b[1;32m      7\u001b[0m \u001b[38;5;28mprint\u001b[39m(t)\n",
      "\u001b[0;31mTypeError\u001b[0m: 'tuple' object does not support item assignment"
     ]
    }
   ],
   "source": [
    "# tuple\n",
    "t = (\"NYU\", \"DataScience\", 100, 201)\n",
    "print(t)\n",
    "print(type(t))\n",
    "print(t[1:])\n",
    "t[2:3] = [8,9]\n",
    "print(t)"
   ]
  },
  {
   "cell_type": "code",
   "execution_count": 12,
   "id": "725f5378",
   "metadata": {},
   "outputs": [
    {
     "name": "stdout",
     "output_type": "stream",
     "text": [
      "{'a': 1, 2: 'Rohan', 's': 10}\n",
      "10\n"
     ]
    }
   ],
   "source": [
    "# Dictionary\n",
    "d = {\"a\":1, 2 : \"Rohan\", 's': 10}\n",
    "print(d)\n",
    "print(d['s'])"
   ]
  },
  {
   "cell_type": "code",
   "execution_count": 13,
   "id": "af392156",
   "metadata": {},
   "outputs": [
    {
     "name": "stdout",
     "output_type": "stream",
     "text": [
      "dict_items([('a', 1), (2, 'Rohan'), ('s', 10)])\n"
     ]
    }
   ],
   "source": [
    "print(d.items())"
   ]
  },
  {
   "cell_type": "code",
   "execution_count": 14,
   "id": "b41c1254",
   "metadata": {},
   "outputs": [
    {
     "name": "stdout",
     "output_type": "stream",
     "text": [
      "True\n",
      "False\n"
     ]
    }
   ],
   "source": [
    "print('s' in d)\n",
    "print(\"rohan\" in d)"
   ]
  },
  {
   "cell_type": "code",
   "execution_count": 15,
   "id": "45cda445",
   "metadata": {},
   "outputs": [
    {
     "name": "stdout",
     "output_type": "stream",
     "text": [
      "{'key1': 'value1', 10: 11}\n",
      "value1\n",
      "None\n"
     ]
    },
    {
     "ename": "KeyError",
     "evalue": "'key3'",
     "output_type": "error",
     "traceback": [
      "\u001b[0;31m---------------------------------------------------------------------------\u001b[0m",
      "\u001b[0;31mKeyError\u001b[0m                                  Traceback (most recent call last)",
      "Cell \u001b[0;32mIn[15], line 8\u001b[0m\n\u001b[1;32m      6\u001b[0m \u001b[38;5;28mprint\u001b[39m(dt\u001b[38;5;241m.\u001b[39mget(\u001b[38;5;124m'\u001b[39m\u001b[38;5;124mkey1\u001b[39m\u001b[38;5;124m'\u001b[39m))\n\u001b[1;32m      7\u001b[0m \u001b[38;5;28mprint\u001b[39m(dt\u001b[38;5;241m.\u001b[39mget(\u001b[38;5;124m'\u001b[39m\u001b[38;5;124mkey3\u001b[39m\u001b[38;5;124m'\u001b[39m)) \u001b[38;5;66;03m# works\u001b[39;00m\n\u001b[0;32m----> 8\u001b[0m \u001b[38;5;28mprint\u001b[39m(\u001b[43mdt\u001b[49m\u001b[43m[\u001b[49m\u001b[38;5;124;43m'\u001b[39;49m\u001b[38;5;124;43mkey3\u001b[39;49m\u001b[38;5;124;43m'\u001b[39;49m\u001b[43m]\u001b[49m) \u001b[38;5;66;03m# throws error\u001b[39;00m\n",
      "\u001b[0;31mKeyError\u001b[0m: 'key3'"
     ]
    }
   ],
   "source": [
    "dt = {}\n",
    "dt['key1'] = 'value1'\n",
    "dt[10] = 11\n",
    "\n",
    "print(dt)\n",
    "print(dt.get('key1'))\n",
    "print(dt.get('key3')) # works\n",
    "print(dt['key3']) # throws error"
   ]
  },
  {
   "cell_type": "code",
   "execution_count": 16,
   "id": "e55e0c8f",
   "metadata": {},
   "outputs": [
    {
     "name": "stdout",
     "output_type": "stream",
     "text": [
      "10\n"
     ]
    }
   ],
   "source": [
    "# For loop\n",
    "sum = 0\n",
    "for i in range(5):\n",
    "    sum += i\n",
    "print(sum)"
   ]
  },
  {
   "cell_type": "code",
   "execution_count": 17,
   "id": "81e15599",
   "metadata": {},
   "outputs": [
    {
     "name": "stdout",
     "output_type": "stream",
     "text": [
      "10\n"
     ]
    }
   ],
   "source": [
    "# While loop\n",
    "sum = 0\n",
    "i = 0\n",
    "while i < 5:\n",
    "    sum += i\n",
    "    i += 1\n",
    "print(sum)"
   ]
  },
  {
   "cell_type": "code",
   "execution_count": 18,
   "id": "c69e8b62",
   "metadata": {},
   "outputs": [
    {
     "name": "stdout",
     "output_type": "stream",
     "text": [
      "cat\n",
      "dog\n",
      "monkey\n",
      "#1: cat\n",
      "#2: dog\n",
      "#3: monkey\n",
      "#1: cat\n",
      "#2: dog\n",
      "#3: monkey\n"
     ]
    }
   ],
   "source": [
    "animals = ['cat', 'dog', 'monkey']\n",
    "for animal in animals:\n",
    "    print(animal)\n",
    "\n",
    "for i in range(len(animals)):\n",
    "    print(f'#{i+1}: {animals[i]}')\n",
    "\n",
    "for idx, animal in enumerate(animals):\n",
    "    print(f'#{idx+1}: {animal}')"
   ]
  },
  {
   "cell_type": "code",
   "execution_count": 19,
   "id": "9591b18b",
   "metadata": {},
   "outputs": [
    {
     "name": "stdout",
     "output_type": "stream",
     "text": [
      "2\n",
      "4\n",
      "8\n",
      "('person', 2)\n",
      "None\n",
      "('cat', 4)\n",
      "None\n",
      "('spider', 8)\n",
      "None\n"
     ]
    }
   ],
   "source": [
    "d = {'person': 2, 'cat': 4, 'spider': 8}\n",
    "for animal, legs in d.items():\n",
    "    print(d.get(animal))\n",
    "\n",
    "for i in d.items():\n",
    "    print(i)\n",
    "    print(d.get(i))"
   ]
  },
  {
   "cell_type": "code",
   "execution_count": 20,
   "id": "08f1bfa2",
   "metadata": {},
   "outputs": [
    {
     "name": "stdout",
     "output_type": "stream",
     "text": [
      "(1, 2)\n",
      "<class 'tuple'>\n"
     ]
    }
   ],
   "source": [
    "a = 1,2\n",
    "print(a)\n",
    "print(type(a))"
   ]
  },
  {
   "cell_type": "code",
   "execution_count": 21,
   "id": "82265d42",
   "metadata": {},
   "outputs": [
    {
     "name": "stdout",
     "output_type": "stream",
     "text": [
      "1\n",
      "2\n"
     ]
    }
   ],
   "source": [
    "a,b = 1,2\n",
    "print(a)\n",
    "print(b)"
   ]
  },
  {
   "cell_type": "code",
   "execution_count": 22,
   "id": "d86aa8f9",
   "metadata": {},
   "outputs": [
    {
     "name": "stdout",
     "output_type": "stream",
     "text": [
      "1\n",
      "3\n"
     ]
    }
   ],
   "source": [
    "s = \"12345\" # immutable\n",
    "print(s[0])\n",
    "print(s[-3])"
   ]
  },
  {
   "cell_type": "code",
   "execution_count": 23,
   "id": "25638ec6",
   "metadata": {},
   "outputs": [
    {
     "ename": "TypeError",
     "evalue": "'str' object does not support item assignment",
     "output_type": "error",
     "traceback": [
      "\u001b[0;31m---------------------------------------------------------------------------\u001b[0m",
      "\u001b[0;31mTypeError\u001b[0m                                 Traceback (most recent call last)",
      "Cell \u001b[0;32mIn[23], line 1\u001b[0m\n\u001b[0;32m----> 1\u001b[0m \u001b[43ms\u001b[49m\u001b[43m[\u001b[49m\u001b[38;5;241;43m1\u001b[39;49m\u001b[43m]\u001b[49m \u001b[38;5;241m=\u001b[39m \u001b[38;5;124m'\u001b[39m\u001b[38;5;124m2\u001b[39m\u001b[38;5;124m'\u001b[39m \u001b[38;5;66;03m# throws error\u001b[39;00m\n",
      "\u001b[0;31mTypeError\u001b[0m: 'str' object does not support item assignment"
     ]
    }
   ],
   "source": [
    "s[1] = '2' # throws error"
   ]
  },
  {
   "cell_type": "code",
   "execution_count": 24,
   "id": "2030899e",
   "metadata": {},
   "outputs": [
    {
     "name": "stdout",
     "output_type": "stream",
     "text": [
      "helloworld\n"
     ]
    }
   ],
   "source": [
    "s = \"hello\"\n",
    "print(s + \"world\")"
   ]
  },
  {
   "cell_type": "code",
   "execution_count": 25,
   "id": "ffe01296",
   "metadata": {},
   "outputs": [
    {
     "name": "stdout",
     "output_type": "stream",
     "text": [
      "['H', 'e', 'l', 'l', 'o']\n",
      "<class 'list'>\n",
      "Hello\n",
      "<class 'str'>\n"
     ]
    }
   ],
   "source": [
    "s = list(s)\n",
    "s[0] = 'H'\n",
    "print(s)\n",
    "print(type(s))\n",
    "s = ''.join(s)\n",
    "print(s)\n",
    "print(type(s))"
   ]
  },
  {
   "cell_type": "code",
   "execution_count": 26,
   "id": "26ba6bf6",
   "metadata": {},
   "outputs": [
    {
     "name": "stdout",
     "output_type": "stream",
     "text": [
      "['Hello', 'World', 'Rohan']\n"
     ]
    }
   ],
   "source": [
    "TestString = \"Hello World Rohan\"\n",
    "TestString = TestString.split(\" \")\n",
    "print(TestString)"
   ]
  },
  {
   "cell_type": "code",
   "execution_count": 27,
   "id": "a4290cbf",
   "metadata": {},
   "outputs": [
    {
     "name": "stdout",
     "output_type": "stream",
     "text": [
      "Hello World Rohan\n"
     ]
    }
   ],
   "source": [
    "t = \" \".join(TestString)\n",
    "print(t)"
   ]
  },
  {
   "cell_type": "code",
   "execution_count": 28,
   "id": "e0977144",
   "metadata": {},
   "outputs": [
    {
     "name": "stdout",
     "output_type": "stream",
     "text": [
      "Hello\n",
      "HELLO\n",
      "he(ell)(ell)o\n",
      "  hello\n",
      " hello \n"
     ]
    }
   ],
   "source": [
    "s = \"hello\"\n",
    "print(s.capitalize())\n",
    "print(s.upper())\n",
    "print(s.replace('l', '(ell)'))\n",
    "print(s.rjust(7)) # right justified\n",
    "print(s.center(7)) # center justified"
   ]
  },
  {
   "cell_type": "code",
   "execution_count": 29,
   "id": "479ebc6b",
   "metadata": {},
   "outputs": [
    {
     "name": "stdout",
     "output_type": "stream",
     "text": [
      "['apple', 'banana', 'cherry', 'grapes', 'mango', 'orange']\n",
      "['apple', 'banana', 'cherry', 'grapes', 'mango', 'orange']\n",
      "['apple', 'banana', 'cherry', 'grapes', 'mango', 'orange', 'kiwi']\n",
      "['kiwi', 'orange', 'mango', 'grapes', 'cherry', 'banana', 'apple']\n"
     ]
    }
   ],
   "source": [
    "l = [\"apple\", \"banana\", \"cherry\"]\n",
    "m = [\"grapes\", \"mango\", \"orange\"]\n",
    "lm = l + m\n",
    "print(lm)\n",
    "l.extend(m)\n",
    "print(l)\n",
    "lm.append(\"kiwi\")\n",
    "print(lm)\n",
    "print(lm[::-1]) # reverse"
   ]
  },
  {
   "cell_type": "code",
   "execution_count": 30,
   "id": "fd553c22",
   "metadata": {},
   "outputs": [
    {
     "name": "stdout",
     "output_type": "stream",
     "text": [
      "dict_keys(['name', 'age'])\n",
      "dict_values(['Rohan', 25])\n"
     ]
    }
   ],
   "source": [
    "mydict = {\"name\": \"Rohan\", \"age\": 25}\n",
    "print(mydict.keys())\n",
    "print(mydict.values())"
   ]
  },
  {
   "cell_type": "code",
   "execution_count": 31,
   "id": "e27bcc68",
   "metadata": {},
   "outputs": [
    {
     "name": "stdout",
     "output_type": "stream",
     "text": [
      "100\n"
     ]
    }
   ],
   "source": [
    "shresth = \"100\"\n",
    "def performOperation():\n",
    "    print(shresth)\n",
    "\n",
    "performOperation()"
   ]
  }
 ],
 "metadata": {
  "kernelspec": {
   "display_name": "Python 3 (ipykernel)",
   "language": "python",
   "name": "python3"
  },
  "language_info": {
   "codemirror_mode": {
    "name": "ipython",
    "version": 3
   },
   "file_extension": ".py",
   "mimetype": "text/x-python",
   "name": "python",
   "nbconvert_exporter": "python",
   "pygments_lexer": "ipython3",
   "version": "3.10.14"
  }
 },
 "nbformat": 4,
 "nbformat_minor": 5
}
